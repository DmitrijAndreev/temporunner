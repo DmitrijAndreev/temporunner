{
 "cells": [
  {
   "cell_type": "code",
   "execution_count": 1,
   "metadata": {},
   "outputs": [],
   "source": [
    "import numpy as np"
   ]
  },
  {
   "cell_type": "code",
   "execution_count": 2,
   "metadata": {},
   "outputs": [],
   "source": [
    "F0 = np.float64(0.6037850000)\n",
    "dF0 = np.float64(0.0000000004054759)\n",
    "F1 = np.float64(-8.007453049382e-16)\n",
    "dF1 = np.float64(6.517748553267e-18)"
   ]
  },
  {
   "cell_type": "markdown",
   "metadata": {},
   "source": [
    "\\begin{align}\n",
    "\\ f & = \\frac{1}{p} \\\\\n",
    "\\dot{f} & = - \\frac{\\dot{p}}{p^2} \\\\\n",
    "\\ddot{f} & = - \\frac{\\ddot{p}}{p^2} + \\frac{2\\dot{p}^2}{p^3}\n",
    "\\end{align}"
   ]
  },
  {
   "cell_type": "markdown",
   "metadata": {},
   "source": [
    "\\begin{align}\n",
    "\\ p & = \\frac{1}{f} \\\\\n",
    "\\dot{p} & = - \\dot{f}{p^2} \n",
    "\\end{align}"
   ]
  },
  {
   "cell_type": "code",
   "execution_count": 3,
   "metadata": {},
   "outputs": [],
   "source": [
    "from decimal import *\n",
    "from mpmath import *"
   ]
  },
  {
   "cell_type": "code",
   "execution_count": 4,
   "metadata": {},
   "outputs": [
    {
     "name": "stdout",
     "output_type": "stream",
     "text": [
      "1.6562186871154467\n"
     ]
    }
   ],
   "source": [
    "P0 = 1/F0\n",
    "print(P0)"
   ]
  },
  {
   "cell_type": "code",
   "execution_count": null,
   "metadata": {},
   "outputs": [],
   "source": []
  },
  {
   "cell_type": "code",
   "execution_count": 5,
   "metadata": {},
   "outputs": [
    {
     "name": "stdout",
     "output_type": "stream",
     "text": [
      "5.404752548264636e-16\n"
     ]
    }
   ],
   "source": [
    "P1 = - F1 * P0**2\n",
    "print(P1)"
   ]
  },
  {
   "cell_type": "code",
   "execution_count": 88,
   "metadata": {},
   "outputs": [],
   "source": [
    "def percente(value, part):\n",
    "    mp.dps = 37\n",
    "    part = mpf(part)\n",
    "    value = mpf(value)\n",
    "    return part*100/value "
   ]
  },
  {
   "cell_type": "code",
   "execution_count": 89,
   "metadata": {},
   "outputs": [
    {
     "name": "stdout",
     "output_type": "stream",
     "text": [
      "0.00000002739223753824107255783895115880548282\n"
     ]
    }
   ],
   "source": [
    "dd = P0 * percente(F0, dF0) \n",
    "print(dd)"
   ]
  },
  {
   "cell_type": "code",
   "execution_count": 84,
   "metadata": {},
   "outputs": [
    {
     "data": {
      "text/plain": [
       "mpf('-2.851418729087914226756520832324651119444e-15')"
      ]
     },
     "execution_count": 84,
     "metadata": {},
     "output_type": "execute_result"
    }
   ],
   "source": [
    "P1 * percente(F1, dF1) "
   ]
  },
  {
   "cell_type": "code",
   "execution_count": null,
   "metadata": {},
   "outputs": [],
   "source": []
  }
 ],
 "metadata": {
  "kernelspec": {
   "display_name": "Python 3",
   "language": "python",
   "name": "python3"
  },
  "language_info": {
   "codemirror_mode": {
    "name": "ipython",
    "version": 3
   },
   "file_extension": ".py",
   "mimetype": "text/x-python",
   "name": "python",
   "nbconvert_exporter": "python",
   "pygments_lexer": "ipython3",
   "version": "3.5.2"
  }
 },
 "nbformat": 4,
 "nbformat_minor": 2
}
